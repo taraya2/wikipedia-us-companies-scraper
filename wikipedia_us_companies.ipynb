{
 "cells": [
  {
   "cell_type": "code",
   "execution_count": 2,
   "id": "d05a117c-542b-47ce-a4ad-18a697831ab6",
   "metadata": {},
   "outputs": [],
   "source": [
    "from bs4 import BeautifulSoup\n",
    "import requests"
   ]
  },
  {
   "cell_type": "code",
   "execution_count": 6,
   "id": "62212304-fd94-4a6c-abe1-4297a47a4e6c",
   "metadata": {
    "scrolled": true
   },
   "outputs": [],
   "source": [
    "url = \"https://en.wikipedia.org/wiki/List_of_largest_companies_in_the_United_States_by_revenue\"\n",
    "\n",
    "page = requests.get(url)\n",
    "soup = BeautifulSoup(page.text, 'html')"
   ]
  },
  {
   "cell_type": "code",
   "execution_count": 10,
   "id": "9d9b61c1-0ad9-4b94-80d8-e3154ed585b5",
   "metadata": {
    "scrolled": true
   },
   "outputs": [],
   "source": [
    "table = soup.find_all('table')[0] ## this is the first table \n"
   ]
  },
  {
   "cell_type": "code",
   "execution_count": 11,
   "id": "fa271ca8-92b4-4c8d-924e-2e45a1358b80",
   "metadata": {
    "scrolled": true
   },
   "outputs": [
    {
     "data": {
      "text/plain": [
       "[<th>Rank\n",
       " </th>,\n",
       " <th>Name\n",
       " </th>,\n",
       " <th>Industry\n",
       " </th>,\n",
       " <th>Revenue <br/>(USD millions)\n",
       " </th>,\n",
       " <th>Revenue growth\n",
       " </th>,\n",
       " <th>Employees\n",
       " </th>,\n",
       " <th>Headquarters\n",
       " </th>]"
      ]
     },
     "execution_count": 11,
     "metadata": {},
     "output_type": "execute_result"
    }
   ],
   "source": [
    "## pull the rank industry.. (different colomuns) of data)\n",
    "world_titles = table.find_all('th') # use the first table and pull all the headings\n",
    "world_titles"
   ]
  },
  {
   "cell_type": "code",
   "execution_count": 12,
   "id": "d7198f37-8800-4ac2-80af-e8a0cebf4360",
   "metadata": {},
   "outputs": [
    {
     "name": "stdout",
     "output_type": "stream",
     "text": [
      "['Rank\\n', 'Name\\n', 'Industry\\n', 'Revenue (USD millions)\\n', 'Revenue growth\\n', 'Employees\\n', 'Headquarters\\n']\n"
     ]
    }
   ],
   "source": [
    "# do list comprehenstion\n",
    "world_table_titles = [title.text for title in world_titles]\n",
    "print(world_table_titles)"
   ]
  },
  {
   "cell_type": "code",
   "execution_count": 13,
   "id": "3d7b9393-5941-45f2-95d0-5f708164f016",
   "metadata": {},
   "outputs": [],
   "source": [
    "### Clean the list remove the \\n\n",
    "world_table_titles = [title.text.strip() for title in world_titles]"
   ]
  },
  {
   "cell_type": "code",
   "execution_count": 14,
   "id": "6ac6d3b2-41e6-4e8e-9704-d5cbaadb241c",
   "metadata": {},
   "outputs": [
    {
     "data": {
      "text/html": [
       "<div>\n",
       "<style scoped>\n",
       "    .dataframe tbody tr th:only-of-type {\n",
       "        vertical-align: middle;\n",
       "    }\n",
       "\n",
       "    .dataframe tbody tr th {\n",
       "        vertical-align: top;\n",
       "    }\n",
       "\n",
       "    .dataframe thead th {\n",
       "        text-align: right;\n",
       "    }\n",
       "</style>\n",
       "<table border=\"1\" class=\"dataframe\">\n",
       "  <thead>\n",
       "    <tr style=\"text-align: right;\">\n",
       "      <th></th>\n",
       "      <th>Rank</th>\n",
       "      <th>Name</th>\n",
       "      <th>Industry</th>\n",
       "      <th>Revenue (USD millions)</th>\n",
       "      <th>Revenue growth</th>\n",
       "      <th>Employees</th>\n",
       "      <th>Headquarters</th>\n",
       "    </tr>\n",
       "  </thead>\n",
       "  <tbody>\n",
       "  </tbody>\n",
       "</table>\n",
       "</div>"
      ],
      "text/plain": [
       "Empty DataFrame\n",
       "Columns: [Rank, Name, Industry, Revenue (USD millions), Revenue growth, Employees, Headquarters]\n",
       "Index: []"
      ]
     },
     "execution_count": 14,
     "metadata": {},
     "output_type": "execute_result"
    }
   ],
   "source": [
    "# lets put this in pandas DataFrame\n",
    "import pandas as pd\n",
    "df = pd.DataFrame(columns= world_table_titles)\n",
    "df"
   ]
  },
  {
   "cell_type": "code",
   "execution_count": 32,
   "id": "ff92f383-5df3-407e-af84-136a8ba548a9",
   "metadata": {
    "scrolled": true
   },
   "outputs": [],
   "source": [
    "## now pull the data from each row\n",
    "column_data = table.find_all('tr')\n",
    "for row in column_data:\n",
    "    row_data = row.find_all('td')\n",
    "    individual_row_data = [data.text.strip() for data in row_data]\n",
    "    # print(individual_row_data)  VISUALLY SEE  HOW THE DATA LOOKS "
   ]
  },
  {
   "cell_type": "code",
   "execution_count": 27,
   "id": "b0e38e3d-eb03-45d5-9832-3ff16084cfc7",
   "metadata": {
    "scrolled": true
   },
   "outputs": [
    {
     "data": {
      "text/html": [
       "<div>\n",
       "<style scoped>\n",
       "    .dataframe tbody tr th:only-of-type {\n",
       "        vertical-align: middle;\n",
       "    }\n",
       "\n",
       "    .dataframe tbody tr th {\n",
       "        vertical-align: top;\n",
       "    }\n",
       "\n",
       "    .dataframe thead th {\n",
       "        text-align: right;\n",
       "    }\n",
       "</style>\n",
       "<table border=\"1\" class=\"dataframe\">\n",
       "  <thead>\n",
       "    <tr style=\"text-align: right;\">\n",
       "      <th></th>\n",
       "      <th>Rank</th>\n",
       "      <th>Name</th>\n",
       "      <th>Industry</th>\n",
       "      <th>Revenue (USD millions)</th>\n",
       "      <th>Revenue growth</th>\n",
       "      <th>Employees</th>\n",
       "      <th>Headquarters</th>\n",
       "    </tr>\n",
       "  </thead>\n",
       "  <tbody>\n",
       "    <tr>\n",
       "      <th>0</th>\n",
       "      <td>1</td>\n",
       "      <td>Walmart</td>\n",
       "      <td>Retail</td>\n",
       "      <td>648,125</td>\n",
       "      <td>6.0%</td>\n",
       "      <td>2,100,000</td>\n",
       "      <td>Bentonville, Arkansas</td>\n",
       "    </tr>\n",
       "    <tr>\n",
       "      <th>1</th>\n",
       "      <td>2</td>\n",
       "      <td>Amazon</td>\n",
       "      <td>Retail and cloud computing</td>\n",
       "      <td>574,785</td>\n",
       "      <td>11.9%</td>\n",
       "      <td>1,525,000</td>\n",
       "      <td>Seattle, Washington</td>\n",
       "    </tr>\n",
       "    <tr>\n",
       "      <th>2</th>\n",
       "      <td>3</td>\n",
       "      <td>Apple</td>\n",
       "      <td>Electronics industry</td>\n",
       "      <td>383,482</td>\n",
       "      <td>-2.8%</td>\n",
       "      <td>161,000</td>\n",
       "      <td>Cupertino, California</td>\n",
       "    </tr>\n",
       "    <tr>\n",
       "      <th>3</th>\n",
       "      <td>4</td>\n",
       "      <td>UnitedHealth Group</td>\n",
       "      <td>Healthcare</td>\n",
       "      <td>371,622</td>\n",
       "      <td>14.6%</td>\n",
       "      <td>440,000</td>\n",
       "      <td>Minnetonka, Minnesota</td>\n",
       "    </tr>\n",
       "    <tr>\n",
       "      <th>4</th>\n",
       "      <td>5</td>\n",
       "      <td>Berkshire Hathaway</td>\n",
       "      <td>Conglomerate</td>\n",
       "      <td>364,482</td>\n",
       "      <td>20.7%</td>\n",
       "      <td>396,500</td>\n",
       "      <td>Omaha, Nebraska</td>\n",
       "    </tr>\n",
       "    <tr>\n",
       "      <th>5</th>\n",
       "      <td>6</td>\n",
       "      <td>CVS Health</td>\n",
       "      <td>Healthcare</td>\n",
       "      <td>357,776</td>\n",
       "      <td>10.9%</td>\n",
       "      <td>259,500</td>\n",
       "      <td>Woonsocket, Rhode Island</td>\n",
       "    </tr>\n",
       "    <tr>\n",
       "      <th>6</th>\n",
       "      <td>7</td>\n",
       "      <td>ExxonMobil</td>\n",
       "      <td>Petroleum industry</td>\n",
       "      <td>344,582</td>\n",
       "      <td>-16.7%</td>\n",
       "      <td>61,500</td>\n",
       "      <td>Spring, Texas</td>\n",
       "    </tr>\n",
       "    <tr>\n",
       "      <th>7</th>\n",
       "      <td>8</td>\n",
       "      <td>Alphabet</td>\n",
       "      <td>Technology and cloud computing</td>\n",
       "      <td>307,394</td>\n",
       "      <td>8.7%</td>\n",
       "      <td>182,502</td>\n",
       "      <td>Mountain View, California</td>\n",
       "    </tr>\n",
       "    <tr>\n",
       "      <th>8</th>\n",
       "      <td>9</td>\n",
       "      <td>McKesson Corporation</td>\n",
       "      <td>Health</td>\n",
       "      <td>276,711</td>\n",
       "      <td>4.8%</td>\n",
       "      <td>48,000</td>\n",
       "      <td>Irving, Texas</td>\n",
       "    </tr>\n",
       "    <tr>\n",
       "      <th>9</th>\n",
       "      <td>10</td>\n",
       "      <td>Cencora</td>\n",
       "      <td>Pharmacy wholesale</td>\n",
       "      <td>262,173</td>\n",
       "      <td>9.9%</td>\n",
       "      <td>44,000</td>\n",
       "      <td>Conshohocken, Pennsylvania</td>\n",
       "    </tr>\n",
       "  </tbody>\n",
       "</table>\n",
       "</div>"
      ],
      "text/plain": [
       "  Rank                  Name                        Industry  \\\n",
       "0    1               Walmart                          Retail   \n",
       "1    2                Amazon      Retail and cloud computing   \n",
       "2    3                 Apple            Electronics industry   \n",
       "3    4    UnitedHealth Group                      Healthcare   \n",
       "4    5    Berkshire Hathaway                    Conglomerate   \n",
       "5    6            CVS Health                      Healthcare   \n",
       "6    7            ExxonMobil              Petroleum industry   \n",
       "7    8              Alphabet  Technology and cloud computing   \n",
       "8    9  McKesson Corporation                          Health   \n",
       "9   10               Cencora              Pharmacy wholesale   \n",
       "\n",
       "  Revenue (USD millions) Revenue growth  Employees                Headquarters  \n",
       "0                648,125           6.0%  2,100,000       Bentonville, Arkansas  \n",
       "1                574,785          11.9%  1,525,000         Seattle, Washington  \n",
       "2                383,482          -2.8%    161,000       Cupertino, California  \n",
       "3                371,622          14.6%    440,000       Minnetonka, Minnesota  \n",
       "4                364,482          20.7%    396,500             Omaha, Nebraska  \n",
       "5                357,776          10.9%    259,500    Woonsocket, Rhode Island  \n",
       "6                344,582         -16.7%     61,500               Spring, Texas  \n",
       "7                307,394           8.7%    182,502   Mountain View, California  \n",
       "8                276,711           4.8%     48,000               Irving, Texas  \n",
       "9                262,173           9.9%     44,000  Conshohocken, Pennsylvania  "
      ]
     },
     "execution_count": 27,
     "metadata": {},
     "output_type": "execute_result"
    }
   ],
   "source": [
    "#Append data into data frame for each loop\n",
    "                ## start at position 1 to skip over empty first list\n",
    "for row in column_data[1:]:\n",
    "    row_data = row.find_all('td')\n",
    "    individual_row_data = [data.text.strip() for data in row_data]\n",
    "    length = len(df)\n",
    "    df.loc[length] = individual_row_data\n",
    "df.head(10)"
   ]
  },
  {
   "cell_type": "code",
   "execution_count": 25,
   "id": "a2c9fa95-d711-4536-a2c6-fdea3c0b5ca6",
   "metadata": {},
   "outputs": [],
   "source": [
    "# Convert to Csv\n",
    "abs_path = \"/Users/t/Desktop/DataScience/CsvOutputs\"\n",
    "df.to_csv(f\"{abs_path}/Wikipedia_Scraping_output.csv\", index=False)"
   ]
  }
 ],
 "metadata": {
  "kernelspec": {
   "display_name": "Python [conda env:base] *",
   "language": "python",
   "name": "conda-base-py"
  },
  "language_info": {
   "codemirror_mode": {
    "name": "ipython",
    "version": 3
   },
   "file_extension": ".py",
   "mimetype": "text/x-python",
   "name": "python",
   "nbconvert_exporter": "python",
   "pygments_lexer": "ipython3",
   "version": "3.13.5"
  }
 },
 "nbformat": 4,
 "nbformat_minor": 5
}
